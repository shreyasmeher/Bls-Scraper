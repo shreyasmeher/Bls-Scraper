{
 "cells": [
  {
   "cell_type": "markdown",
   "id": "ee0af85f-bd7a-4fd9-91e5-8649a3289767",
   "metadata": {},
   "source": [
    "## BLS-Table Scraper \n",
    "### Shreyas Meher \n",
    "#### Last Modified - 6/26/2022"
   ]
  },
  {
   "cell_type": "code",
   "execution_count": null,
   "id": "b6227da6-dd2a-45c9-8633-ec5abe4731ba",
   "metadata": {},
   "outputs": [],
   "source": [
    "# import packages needed to run our script\n",
    "import re\n",
    "from bs4 import BeautifulSoup\n",
    "import urllib.request\n",
    "import pandas as pd\n",
    "import numpy as np"
   ]
  },
  {
   "cell_type": "code",
   "execution_count": null,
   "id": "c318eca9-272c-4e7a-9c42-b7cfb416b70d",
   "metadata": {
    "tags": []
   },
   "outputs": [],
   "source": [
    "# function to get user input regarding what BLS table needs to be scraped\n",
    "def url_func():\n",
    "    url = input(\"Please enter the BLS publication that you want to scrape table from: \")\n",
    "    return url\n",
    "\n",
    "# one table - https://www.bls.gov/news.release/cpi.t01.htm\n",
    "# two tables - https://www.bls.gov/regions/southwest/news-release/2022/occupationalemploymentandwages_houston_20220624.htm\n",
    "# table links - https://www.bls.gov/bls/newsrels.htm#OPLC \n",
    "url = url_func()\n",
    "web_data = urllib.request.urlopen(url).read()"
   ]
  },
  {
   "cell_type": "code",
   "execution_count": null,
   "id": "888e7312-2b33-4506-8151-a4bebbe19d63",
   "metadata": {},
   "outputs": [],
   "source": [
    "# create soup object to look for the relevant table tags\n",
    "soup = BeautifulSoup(web_data, \"html.parser\")"
   ]
  },
  {
   "cell_type": "code",
   "execution_count": null,
   "id": "c7a26fd0-ead0-431c-8eb3-d96f5a0f1431",
   "metadata": {},
   "outputs": [],
   "source": [
    "# how to deal with multiple tables in the website\n",
    "tables = soup.find_all(\"table\", class_=\"regular\")\n",
    "for table in tables:\n",
    "    # merging the table tags together into one and unwrapping at the same time\n",
    "    m_tbodies = table.find_all(\"tbody\", recursive=False)\n",
    "    if len(m_tbodies) > 1:\n",
    "        main_tbody = m_tbodies[0]\n",
    "        for tbody in m_tbodies[1:]:\n",
    "            main_tbody.append(tbody.extract())\n",
    "            tbody.unwrap()\n",
    "\n",
    "    # cleaning up footnote markers to make the data more readable\n",
    "    #ft_markers = []\n",
    "    #for tfoot in table.find_all(\"tfoot\", recursive=False):\n",
    "        #for s in tfoot.strings:\n",
    "            #if \" \" in s:\n",
    "                #parts = s.split(maxsplit=1)\n",
    "                #ft_markers.append(parts[0])\n",
    "        #tfoot.decompose()\n",
    "\n",
    "    # remove footnote links\n",
    "    #for footnoteid in table.select(\"a > .footnoteid\"):\n",
    "        #footnoteid.parent.decompose()\n",
    "\n",
    "    # strip footnote markers and dollar signs from table cells\n",
    "    #if ft_markers:\n",
    "        #footnote_re = re.compile(r\"(\\s*(\" + \"|\".join(map(re.escape, ft_markers)) + \"))+$\")\n",
    "        #for td in table.find_all(\"td\"):\n",
    "            #if td.string:\n",
    "                #td.string = footnote_re.sub(\"\", td.string).lstrip(\"$\")\n",
    "\n",
    "match = \".+\"\n",
    "if len(tables) > 1:\n",
    "    match = re.escape(\n",
    "        input(\"There are multiple tables on this webpage, which one do you want the script to output? (Eg. Table A)\")\n",
    "    )"
   ]
  },
  {
   "cell_type": "code",
   "execution_count": null,
   "id": "f477f678-c298-43d6-ac2e-716441947ed8",
   "metadata": {},
   "outputs": [],
   "source": [
    "# dataset creation\n",
    "data_pandas = pd.read_html(str(soup), match=match, flavor=\"bs4\", thousands=\",\", decimal=\".\")\n",
    "df = data_pandas[0]"
   ]
  },
  {
   "cell_type": "code",
   "execution_count": null,
   "id": "27698f4b-342e-4615-b7a6-466120511ddd",
   "metadata": {},
   "outputs": [],
   "source": [
    "# export to csv\n",
    "df.to_csv(input(\"Specify .csv filename: \"))"
   ]
  },
  {
   "cell_type": "code",
   "execution_count": null,
   "id": "7627a449",
   "metadata": {},
   "outputs": [],
   "source": []
  }
 ],
 "metadata": {
  "kernelspec": {
   "display_name": "Python 3",
   "language": "python",
   "name": "python3"
  },
  "language_info": {
   "codemirror_mode": {
    "name": "ipython",
    "version": 3
   },
   "file_extension": ".py",
   "mimetype": "text/x-python",
   "name": "python",
   "nbconvert_exporter": "python",
   "pygments_lexer": "ipython3",
   "version": "3.8.8"
  }
 },
 "nbformat": 4,
 "nbformat_minor": 5
}
